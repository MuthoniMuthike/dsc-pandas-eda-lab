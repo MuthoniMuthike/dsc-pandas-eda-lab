{
 "cells": [
  {
   "cell_type": "markdown",
   "metadata": {},
   "source": [
    "# EDA with Pandas - Cumulative Lab\n",
    "\n",
    "## Introduction\n",
    "\n",
    "In this section, you've learned a lot about importing, cleaning up, analyzing (using descriptive statistics) and visualizing data. In this cumulative lab, you'll get a chance to practice all of these skills with the Ames Housing dataset, which contains information about home sales in Ames, Iowa between 2006 and 2010.\n",
    "\n",
    "## Objectives\n",
    "\n",
    "You will be able to:\n",
    "\n",
    "* Practice loading data with pandas\n",
    "* Practice calculating measures of centrality and dispersion with pandas\n",
    "* Practice creating subsets of data with pandas\n",
    "* Practice using data visualizations to explore data, and interpreting those visualizations\n",
    "* Perform a full exploratory data analysis process to gain insight about a dataset "
   ]
  },
  {
   "cell_type": "markdown",
   "metadata": {},
   "source": [
    "## Your Task: Explore the Ames Housing Dataset with Pandas\n",
    "\n",
    "![aerial photo of a neighborhood](images/neighborhood_aerial.jpg)\n",
    "\n",
    "Photo by <a href=\"https://unsplash.com/@mattdonders?utm_source=unsplash&utm_medium=referral&utm_content=creditCopyText\">Matt Donders</a> on <a href=\"/@mattdonders?utm_source=unsplash&utm_medium=referral&utm_content=creditCopyText\">Unsplash</a>\n",
    "\n"
   ]
  },
  {
   "cell_type": "markdown",
   "metadata": {},
   "source": [
    "### Data Understanding\n",
    "\n",
    "Each record (row) in this dataset represents a home that was sold in Ames, IA.\n",
    "\n",
    "Each feature (column) in this dataset is some attribute of that home sale. You can view the file `data/data_description.txt` in this repository for a full explanation of all variables in this dataset — 80 columns in total.\n",
    "\n",
    "We are going to focus on the following features:\n",
    "\n",
    "**SalePrice**: `Sale price of the house in dollars`\n",
    "\n",
    "**TotRmsAbvGrd**: `Total rooms above grade (does not include bathrooms)`\n",
    "\n",
    "**OverallCond**: `Rates the overall condition of the house`\n",
    "```\n",
    "       10\tVery Excellent\n",
    "       9\t Excellent\n",
    "       8\t Very Good\n",
    "       7\t Good\n",
    "       6\t Above Average\t\n",
    "       5\t Average\n",
    "       4\t Below Average\t\n",
    "       3\t Fair\n",
    "       2\t Poor\n",
    "       1\t Very Poor\n",
    "```\n",
    "\n",
    "**YrSold**: `Year Sold (YYYY)`\n",
    "\n",
    "**YearBuilt**: `Original construction date`\n",
    "\n",
    "**LandSlope**: `Slope of property`\n",
    "```\n",
    "       Gtl\tGentle slope\n",
    "       Mod\tModerate Slope\t\n",
    "       Sev\tSevere Slope\n",
    "```"
   ]
  },
  {
   "cell_type": "markdown",
   "metadata": {},
   "source": [
    "### Requirements\n",
    "\n",
    "In this lab you will use your data munging and visualization skills to conduct an exploratory analysis of the dataset.\n",
    "\n",
    "#### 1. Load the Dataset with Pandas\n",
    "\n",
    "Import pandas with the standard alias `pd` and load the data into a dataframe with the standard name `df`.\n",
    "\n",
    "#### 2. Explore Data Distributions\n",
    "\n",
    "Produce summary statistics, visualizations, and interpretive text describing the distributions of `SalePrice`, `TotRmsAbvGrd`, and `OverallCond`.\n",
    "\n",
    "#### 3. Explore Differences between Subsets\n",
    "\n",
    "Separate the data into subsets based on `OverallCond`, then demonstrate how this split impacts the distribution of `SalePrice`.\n",
    "\n",
    "#### 4. Explore Correlations\n",
    "\n",
    "Find the features that have the strongest positive and negative correlations with `SalePrice`, and produce plots representing these relationships.\n",
    "\n",
    "#### 5. Engineer and Explore a New Feature\n",
    "\n",
    "Create a new feature `Age`, which represents the difference between the year sold and the year built, and plot the relationship between the age and sale price."
   ]
  },
  {
   "cell_type": "markdown",
   "metadata": {},
   "source": [
    "## 1. Load the Dataset with Pandas\n",
    "\n",
    "In the cell below, import:\n",
    "* `pandas` with the standard alias `pd`\n",
    "* `matplotlib.pyplot` with the standard alias `plt`\n",
    "\n",
    "And set `%matplotlib inline` so the graphs will display immediately below the cell that creates them."
   ]
  },
  {
   "cell_type": "code",
   "execution_count": 2,
   "metadata": {},
   "outputs": [],
   "source": [
    "# Your code here\n",
    "import pandas as pd\n",
    "import matplotlib.pyplot as plt"
   ]
  },
  {
   "cell_type": "markdown",
   "metadata": {},
   "source": [
    "Now, use pandas to open the file located at `data/ames.csv` ([documentation here](https://pandas.pydata.org/pandas-docs/stable/reference/api/pandas.read_csv.html)). Specify the argument `index_col=0` in order to avoid creating an extra `Id` column. Name the resulting dataframe `df`."
   ]
  },
  {
   "cell_type": "code",
   "execution_count": 4,
   "metadata": {},
   "outputs": [],
   "source": [
    "# Your code here\n",
    "#index_col=0 means the 1st column of the CSV file will be used as the DataFrame's index\n",
    "df = pd.read_csv('data/ames.csv', index_col=0)"
   ]
  },
  {
   "cell_type": "markdown",
   "metadata": {},
   "source": [
    "The following code checks that you loaded the data correctly:"
   ]
  },
  {
   "cell_type": "code",
   "execution_count": 5,
   "metadata": {},
   "outputs": [],
   "source": [
    "# Run this cell without changes\n",
    "\n",
    "# Check that df is a dataframe\n",
    "assert type(df) == pd.DataFrame\n",
    "\n",
    "# Check that there are the correct number of rows\n",
    "assert df.shape[0] == 1460\n",
    "\n",
    "# Check that there are the correct number of columns\n",
    "# (if this crashes, make sure you specified `index_col=0`)\n",
    "assert df.shape[1] == 80"
   ]
  },
  {
   "cell_type": "markdown",
   "metadata": {},
   "source": [
    "Inspect the contents of the dataframe:"
   ]
  },
  {
   "cell_type": "code",
   "execution_count": 6,
   "metadata": {},
   "outputs": [
    {
     "data": {
      "text/html": [
       "<div>\n",
       "<style scoped>\n",
       "    .dataframe tbody tr th:only-of-type {\n",
       "        vertical-align: middle;\n",
       "    }\n",
       "\n",
       "    .dataframe tbody tr th {\n",
       "        vertical-align: top;\n",
       "    }\n",
       "\n",
       "    .dataframe thead th {\n",
       "        text-align: right;\n",
       "    }\n",
       "</style>\n",
       "<table border=\"1\" class=\"dataframe\">\n",
       "  <thead>\n",
       "    <tr style=\"text-align: right;\">\n",
       "      <th></th>\n",
       "      <th>MSSubClass</th>\n",
       "      <th>MSZoning</th>\n",
       "      <th>LotFrontage</th>\n",
       "      <th>LotArea</th>\n",
       "      <th>Street</th>\n",
       "      <th>Alley</th>\n",
       "      <th>LotShape</th>\n",
       "      <th>LandContour</th>\n",
       "      <th>Utilities</th>\n",
       "      <th>LotConfig</th>\n",
       "      <th>...</th>\n",
       "      <th>PoolArea</th>\n",
       "      <th>PoolQC</th>\n",
       "      <th>Fence</th>\n",
       "      <th>MiscFeature</th>\n",
       "      <th>MiscVal</th>\n",
       "      <th>MoSold</th>\n",
       "      <th>YrSold</th>\n",
       "      <th>SaleType</th>\n",
       "      <th>SaleCondition</th>\n",
       "      <th>SalePrice</th>\n",
       "    </tr>\n",
       "    <tr>\n",
       "      <th>Id</th>\n",
       "      <th></th>\n",
       "      <th></th>\n",
       "      <th></th>\n",
       "      <th></th>\n",
       "      <th></th>\n",
       "      <th></th>\n",
       "      <th></th>\n",
       "      <th></th>\n",
       "      <th></th>\n",
       "      <th></th>\n",
       "      <th></th>\n",
       "      <th></th>\n",
       "      <th></th>\n",
       "      <th></th>\n",
       "      <th></th>\n",
       "      <th></th>\n",
       "      <th></th>\n",
       "      <th></th>\n",
       "      <th></th>\n",
       "      <th></th>\n",
       "      <th></th>\n",
       "    </tr>\n",
       "  </thead>\n",
       "  <tbody>\n",
       "    <tr>\n",
       "      <th>1</th>\n",
       "      <td>60</td>\n",
       "      <td>RL</td>\n",
       "      <td>65.0</td>\n",
       "      <td>8450</td>\n",
       "      <td>Pave</td>\n",
       "      <td>NaN</td>\n",
       "      <td>Reg</td>\n",
       "      <td>Lvl</td>\n",
       "      <td>AllPub</td>\n",
       "      <td>Inside</td>\n",
       "      <td>...</td>\n",
       "      <td>0</td>\n",
       "      <td>NaN</td>\n",
       "      <td>NaN</td>\n",
       "      <td>NaN</td>\n",
       "      <td>0</td>\n",
       "      <td>2</td>\n",
       "      <td>2008</td>\n",
       "      <td>WD</td>\n",
       "      <td>Normal</td>\n",
       "      <td>208500</td>\n",
       "    </tr>\n",
       "    <tr>\n",
       "      <th>2</th>\n",
       "      <td>20</td>\n",
       "      <td>RL</td>\n",
       "      <td>80.0</td>\n",
       "      <td>9600</td>\n",
       "      <td>Pave</td>\n",
       "      <td>NaN</td>\n",
       "      <td>Reg</td>\n",
       "      <td>Lvl</td>\n",
       "      <td>AllPub</td>\n",
       "      <td>FR2</td>\n",
       "      <td>...</td>\n",
       "      <td>0</td>\n",
       "      <td>NaN</td>\n",
       "      <td>NaN</td>\n",
       "      <td>NaN</td>\n",
       "      <td>0</td>\n",
       "      <td>5</td>\n",
       "      <td>2007</td>\n",
       "      <td>WD</td>\n",
       "      <td>Normal</td>\n",
       "      <td>181500</td>\n",
       "    </tr>\n",
       "    <tr>\n",
       "      <th>3</th>\n",
       "      <td>60</td>\n",
       "      <td>RL</td>\n",
       "      <td>68.0</td>\n",
       "      <td>11250</td>\n",
       "      <td>Pave</td>\n",
       "      <td>NaN</td>\n",
       "      <td>IR1</td>\n",
       "      <td>Lvl</td>\n",
       "      <td>AllPub</td>\n",
       "      <td>Inside</td>\n",
       "      <td>...</td>\n",
       "      <td>0</td>\n",
       "      <td>NaN</td>\n",
       "      <td>NaN</td>\n",
       "      <td>NaN</td>\n",
       "      <td>0</td>\n",
       "      <td>9</td>\n",
       "      <td>2008</td>\n",
       "      <td>WD</td>\n",
       "      <td>Normal</td>\n",
       "      <td>223500</td>\n",
       "    </tr>\n",
       "    <tr>\n",
       "      <th>4</th>\n",
       "      <td>70</td>\n",
       "      <td>RL</td>\n",
       "      <td>60.0</td>\n",
       "      <td>9550</td>\n",
       "      <td>Pave</td>\n",
       "      <td>NaN</td>\n",
       "      <td>IR1</td>\n",
       "      <td>Lvl</td>\n",
       "      <td>AllPub</td>\n",
       "      <td>Corner</td>\n",
       "      <td>...</td>\n",
       "      <td>0</td>\n",
       "      <td>NaN</td>\n",
       "      <td>NaN</td>\n",
       "      <td>NaN</td>\n",
       "      <td>0</td>\n",
       "      <td>2</td>\n",
       "      <td>2006</td>\n",
       "      <td>WD</td>\n",
       "      <td>Abnorml</td>\n",
       "      <td>140000</td>\n",
       "    </tr>\n",
       "    <tr>\n",
       "      <th>5</th>\n",
       "      <td>60</td>\n",
       "      <td>RL</td>\n",
       "      <td>84.0</td>\n",
       "      <td>14260</td>\n",
       "      <td>Pave</td>\n",
       "      <td>NaN</td>\n",
       "      <td>IR1</td>\n",
       "      <td>Lvl</td>\n",
       "      <td>AllPub</td>\n",
       "      <td>FR2</td>\n",
       "      <td>...</td>\n",
       "      <td>0</td>\n",
       "      <td>NaN</td>\n",
       "      <td>NaN</td>\n",
       "      <td>NaN</td>\n",
       "      <td>0</td>\n",
       "      <td>12</td>\n",
       "      <td>2008</td>\n",
       "      <td>WD</td>\n",
       "      <td>Normal</td>\n",
       "      <td>250000</td>\n",
       "    </tr>\n",
       "    <tr>\n",
       "      <th>...</th>\n",
       "      <td>...</td>\n",
       "      <td>...</td>\n",
       "      <td>...</td>\n",
       "      <td>...</td>\n",
       "      <td>...</td>\n",
       "      <td>...</td>\n",
       "      <td>...</td>\n",
       "      <td>...</td>\n",
       "      <td>...</td>\n",
       "      <td>...</td>\n",
       "      <td>...</td>\n",
       "      <td>...</td>\n",
       "      <td>...</td>\n",
       "      <td>...</td>\n",
       "      <td>...</td>\n",
       "      <td>...</td>\n",
       "      <td>...</td>\n",
       "      <td>...</td>\n",
       "      <td>...</td>\n",
       "      <td>...</td>\n",
       "      <td>...</td>\n",
       "    </tr>\n",
       "    <tr>\n",
       "      <th>1456</th>\n",
       "      <td>60</td>\n",
       "      <td>RL</td>\n",
       "      <td>62.0</td>\n",
       "      <td>7917</td>\n",
       "      <td>Pave</td>\n",
       "      <td>NaN</td>\n",
       "      <td>Reg</td>\n",
       "      <td>Lvl</td>\n",
       "      <td>AllPub</td>\n",
       "      <td>Inside</td>\n",
       "      <td>...</td>\n",
       "      <td>0</td>\n",
       "      <td>NaN</td>\n",
       "      <td>NaN</td>\n",
       "      <td>NaN</td>\n",
       "      <td>0</td>\n",
       "      <td>8</td>\n",
       "      <td>2007</td>\n",
       "      <td>WD</td>\n",
       "      <td>Normal</td>\n",
       "      <td>175000</td>\n",
       "    </tr>\n",
       "    <tr>\n",
       "      <th>1457</th>\n",
       "      <td>20</td>\n",
       "      <td>RL</td>\n",
       "      <td>85.0</td>\n",
       "      <td>13175</td>\n",
       "      <td>Pave</td>\n",
       "      <td>NaN</td>\n",
       "      <td>Reg</td>\n",
       "      <td>Lvl</td>\n",
       "      <td>AllPub</td>\n",
       "      <td>Inside</td>\n",
       "      <td>...</td>\n",
       "      <td>0</td>\n",
       "      <td>NaN</td>\n",
       "      <td>MnPrv</td>\n",
       "      <td>NaN</td>\n",
       "      <td>0</td>\n",
       "      <td>2</td>\n",
       "      <td>2010</td>\n",
       "      <td>WD</td>\n",
       "      <td>Normal</td>\n",
       "      <td>210000</td>\n",
       "    </tr>\n",
       "    <tr>\n",
       "      <th>1458</th>\n",
       "      <td>70</td>\n",
       "      <td>RL</td>\n",
       "      <td>66.0</td>\n",
       "      <td>9042</td>\n",
       "      <td>Pave</td>\n",
       "      <td>NaN</td>\n",
       "      <td>Reg</td>\n",
       "      <td>Lvl</td>\n",
       "      <td>AllPub</td>\n",
       "      <td>Inside</td>\n",
       "      <td>...</td>\n",
       "      <td>0</td>\n",
       "      <td>NaN</td>\n",
       "      <td>GdPrv</td>\n",
       "      <td>Shed</td>\n",
       "      <td>2500</td>\n",
       "      <td>5</td>\n",
       "      <td>2010</td>\n",
       "      <td>WD</td>\n",
       "      <td>Normal</td>\n",
       "      <td>266500</td>\n",
       "    </tr>\n",
       "    <tr>\n",
       "      <th>1459</th>\n",
       "      <td>20</td>\n",
       "      <td>RL</td>\n",
       "      <td>68.0</td>\n",
       "      <td>9717</td>\n",
       "      <td>Pave</td>\n",
       "      <td>NaN</td>\n",
       "      <td>Reg</td>\n",
       "      <td>Lvl</td>\n",
       "      <td>AllPub</td>\n",
       "      <td>Inside</td>\n",
       "      <td>...</td>\n",
       "      <td>0</td>\n",
       "      <td>NaN</td>\n",
       "      <td>NaN</td>\n",
       "      <td>NaN</td>\n",
       "      <td>0</td>\n",
       "      <td>4</td>\n",
       "      <td>2010</td>\n",
       "      <td>WD</td>\n",
       "      <td>Normal</td>\n",
       "      <td>142125</td>\n",
       "    </tr>\n",
       "    <tr>\n",
       "      <th>1460</th>\n",
       "      <td>20</td>\n",
       "      <td>RL</td>\n",
       "      <td>75.0</td>\n",
       "      <td>9937</td>\n",
       "      <td>Pave</td>\n",
       "      <td>NaN</td>\n",
       "      <td>Reg</td>\n",
       "      <td>Lvl</td>\n",
       "      <td>AllPub</td>\n",
       "      <td>Inside</td>\n",
       "      <td>...</td>\n",
       "      <td>0</td>\n",
       "      <td>NaN</td>\n",
       "      <td>NaN</td>\n",
       "      <td>NaN</td>\n",
       "      <td>0</td>\n",
       "      <td>6</td>\n",
       "      <td>2008</td>\n",
       "      <td>WD</td>\n",
       "      <td>Normal</td>\n",
       "      <td>147500</td>\n",
       "    </tr>\n",
       "  </tbody>\n",
       "</table>\n",
       "<p>1460 rows × 80 columns</p>\n",
       "</div>"
      ],
      "text/plain": [
       "      MSSubClass MSZoning  LotFrontage  LotArea Street Alley LotShape  \\\n",
       "Id                                                                      \n",
       "1             60       RL         65.0     8450   Pave   NaN      Reg   \n",
       "2             20       RL         80.0     9600   Pave   NaN      Reg   \n",
       "3             60       RL         68.0    11250   Pave   NaN      IR1   \n",
       "4             70       RL         60.0     9550   Pave   NaN      IR1   \n",
       "5             60       RL         84.0    14260   Pave   NaN      IR1   \n",
       "...          ...      ...          ...      ...    ...   ...      ...   \n",
       "1456          60       RL         62.0     7917   Pave   NaN      Reg   \n",
       "1457          20       RL         85.0    13175   Pave   NaN      Reg   \n",
       "1458          70       RL         66.0     9042   Pave   NaN      Reg   \n",
       "1459          20       RL         68.0     9717   Pave   NaN      Reg   \n",
       "1460          20       RL         75.0     9937   Pave   NaN      Reg   \n",
       "\n",
       "     LandContour Utilities LotConfig  ... PoolArea PoolQC  Fence MiscFeature  \\\n",
       "Id                                    ...                                      \n",
       "1            Lvl    AllPub    Inside  ...        0    NaN    NaN         NaN   \n",
       "2            Lvl    AllPub       FR2  ...        0    NaN    NaN         NaN   \n",
       "3            Lvl    AllPub    Inside  ...        0    NaN    NaN         NaN   \n",
       "4            Lvl    AllPub    Corner  ...        0    NaN    NaN         NaN   \n",
       "5            Lvl    AllPub       FR2  ...        0    NaN    NaN         NaN   \n",
       "...          ...       ...       ...  ...      ...    ...    ...         ...   \n",
       "1456         Lvl    AllPub    Inside  ...        0    NaN    NaN         NaN   \n",
       "1457         Lvl    AllPub    Inside  ...        0    NaN  MnPrv         NaN   \n",
       "1458         Lvl    AllPub    Inside  ...        0    NaN  GdPrv        Shed   \n",
       "1459         Lvl    AllPub    Inside  ...        0    NaN    NaN         NaN   \n",
       "1460         Lvl    AllPub    Inside  ...        0    NaN    NaN         NaN   \n",
       "\n",
       "     MiscVal MoSold  YrSold  SaleType  SaleCondition  SalePrice  \n",
       "Id                                                               \n",
       "1          0      2    2008        WD         Normal     208500  \n",
       "2          0      5    2007        WD         Normal     181500  \n",
       "3          0      9    2008        WD         Normal     223500  \n",
       "4          0      2    2006        WD        Abnorml     140000  \n",
       "5          0     12    2008        WD         Normal     250000  \n",
       "...      ...    ...     ...       ...            ...        ...  \n",
       "1456       0      8    2007        WD         Normal     175000  \n",
       "1457       0      2    2010        WD         Normal     210000  \n",
       "1458    2500      5    2010        WD         Normal     266500  \n",
       "1459       0      4    2010        WD         Normal     142125  \n",
       "1460       0      6    2008        WD         Normal     147500  \n",
       "\n",
       "[1460 rows x 80 columns]"
      ]
     },
     "execution_count": 6,
     "metadata": {},
     "output_type": "execute_result"
    }
   ],
   "source": [
    "# Run this cell without changes\n",
    "df"
   ]
  },
  {
   "cell_type": "code",
   "execution_count": 7,
   "metadata": {},
   "outputs": [
    {
     "name": "stdout",
     "output_type": "stream",
     "text": [
      "<class 'pandas.core.frame.DataFrame'>\n",
      "Int64Index: 1460 entries, 1 to 1460\n",
      "Data columns (total 80 columns):\n",
      " #   Column         Non-Null Count  Dtype  \n",
      "---  ------         --------------  -----  \n",
      " 0   MSSubClass     1460 non-null   int64  \n",
      " 1   MSZoning       1460 non-null   object \n",
      " 2   LotFrontage    1201 non-null   float64\n",
      " 3   LotArea        1460 non-null   int64  \n",
      " 4   Street         1460 non-null   object \n",
      " 5   Alley          91 non-null     object \n",
      " 6   LotShape       1460 non-null   object \n",
      " 7   LandContour    1460 non-null   object \n",
      " 8   Utilities      1460 non-null   object \n",
      " 9   LotConfig      1460 non-null   object \n",
      " 10  LandSlope      1460 non-null   object \n",
      " 11  Neighborhood   1460 non-null   object \n",
      " 12  Condition1     1460 non-null   object \n",
      " 13  Condition2     1460 non-null   object \n",
      " 14  BldgType       1460 non-null   object \n",
      " 15  HouseStyle     1460 non-null   object \n",
      " 16  OverallQual    1460 non-null   int64  \n",
      " 17  OverallCond    1460 non-null   int64  \n",
      " 18  YearBuilt      1460 non-null   int64  \n",
      " 19  YearRemodAdd   1460 non-null   int64  \n",
      " 20  RoofStyle      1460 non-null   object \n",
      " 21  RoofMatl       1460 non-null   object \n",
      " 22  Exterior1st    1460 non-null   object \n",
      " 23  Exterior2nd    1460 non-null   object \n",
      " 24  MasVnrType     1452 non-null   object \n",
      " 25  MasVnrArea     1452 non-null   float64\n",
      " 26  ExterQual      1460 non-null   object \n",
      " 27  ExterCond      1460 non-null   object \n",
      " 28  Foundation     1460 non-null   object \n",
      " 29  BsmtQual       1423 non-null   object \n",
      " 30  BsmtCond       1423 non-null   object \n",
      " 31  BsmtExposure   1422 non-null   object \n",
      " 32  BsmtFinType1   1423 non-null   object \n",
      " 33  BsmtFinSF1     1460 non-null   int64  \n",
      " 34  BsmtFinType2   1422 non-null   object \n",
      " 35  BsmtFinSF2     1460 non-null   int64  \n",
      " 36  BsmtUnfSF      1460 non-null   int64  \n",
      " 37  TotalBsmtSF    1460 non-null   int64  \n",
      " 38  Heating        1460 non-null   object \n",
      " 39  HeatingQC      1460 non-null   object \n",
      " 40  CentralAir     1460 non-null   object \n",
      " 41  Electrical     1459 non-null   object \n",
      " 42  1stFlrSF       1460 non-null   int64  \n",
      " 43  2ndFlrSF       1460 non-null   int64  \n",
      " 44  LowQualFinSF   1460 non-null   int64  \n",
      " 45  GrLivArea      1460 non-null   int64  \n",
      " 46  BsmtFullBath   1460 non-null   int64  \n",
      " 47  BsmtHalfBath   1460 non-null   int64  \n",
      " 48  FullBath       1460 non-null   int64  \n",
      " 49  HalfBath       1460 non-null   int64  \n",
      " 50  BedroomAbvGr   1460 non-null   int64  \n",
      " 51  KitchenAbvGr   1460 non-null   int64  \n",
      " 52  KitchenQual    1460 non-null   object \n",
      " 53  TotRmsAbvGrd   1460 non-null   int64  \n",
      " 54  Functional     1460 non-null   object \n",
      " 55  Fireplaces     1460 non-null   int64  \n",
      " 56  FireplaceQu    770 non-null    object \n",
      " 57  GarageType     1379 non-null   object \n",
      " 58  GarageYrBlt    1379 non-null   float64\n",
      " 59  GarageFinish   1379 non-null   object \n",
      " 60  GarageCars     1460 non-null   int64  \n",
      " 61  GarageArea     1460 non-null   int64  \n",
      " 62  GarageQual     1379 non-null   object \n",
      " 63  GarageCond     1379 non-null   object \n",
      " 64  PavedDrive     1460 non-null   object \n",
      " 65  WoodDeckSF     1460 non-null   int64  \n",
      " 66  OpenPorchSF    1460 non-null   int64  \n",
      " 67  EnclosedPorch  1460 non-null   int64  \n",
      " 68  3SsnPorch      1460 non-null   int64  \n",
      " 69  ScreenPorch    1460 non-null   int64  \n",
      " 70  PoolArea       1460 non-null   int64  \n",
      " 71  PoolQC         7 non-null      object \n",
      " 72  Fence          281 non-null    object \n",
      " 73  MiscFeature    54 non-null     object \n",
      " 74  MiscVal        1460 non-null   int64  \n",
      " 75  MoSold         1460 non-null   int64  \n",
      " 76  YrSold         1460 non-null   int64  \n",
      " 77  SaleType       1460 non-null   object \n",
      " 78  SaleCondition  1460 non-null   object \n",
      " 79  SalePrice      1460 non-null   int64  \n",
      "dtypes: float64(3), int64(34), object(43)\n",
      "memory usage: 923.9+ KB\n"
     ]
    }
   ],
   "source": [
    "# Run this cell without changes\n",
    "df.info()"
   ]
  },
  {
   "cell_type": "markdown",
   "metadata": {},
   "source": [
    "## 2. Explore Data Distributions\n",
    "\n",
    "Write code to produce histograms showing the distributions of `SalePrice`, `TotRmsAbvGrd`, and `OverallCond`.\n",
    "\n",
    "Each histogram should have appropriate title and axes labels, as well as a black vertical line indicating the mean of the dataset. See the documentation for [plotting histograms](https://matplotlib.org/stable/api/_as_gen/matplotlib.axes.Axes.hist.html), [customizing axes](https://matplotlib.org/stable/api/axes_api.html#axis-labels-title-and-legend), and [plotting vertical lines](https://matplotlib.org/stable/api/_as_gen/matplotlib.axes.Axes.axvline.html#matplotlib.axes.Axes.axvline) as needed."
   ]
  },
  {
   "cell_type": "markdown",
   "metadata": {},
   "source": [
    "### Sale Price\n",
    "\n",
    "In the cell below, produce a histogram for `SalePrice`."
   ]
  },
  {
   "cell_type": "code",
   "execution_count": 8,
   "metadata": {},
   "outputs": [
    {
     "data": {
      "image/png": "[encoded data removed]",
      "text/plain": [
       "<Figure size 432x288 with 1 Axes>"
      ]
     },
     "metadata": {
      "needs_background": "light"
     },
     "output_type": "display_data"
    }
   ],
   "source": [
    "# Your code here\n",
    "import matplotlib.pyplot as plt\n",
    "\n",
    "# create a figure and axis object\n",
    "fig, ax = plt.subplots()\n",
    "\n",
    "# plot the histogram of SalePrice\n",
    "ax.hist(df['SalePrice'], bins=30, color='skyblue', alpha=0.75)\n",
    "\n",
    "# calculate the mean SalePrice\n",
    "mean_price = df['SalePrice'].mean()\n",
    "\n",
    "# plot a vertical line at the mean SalePrice\n",
    "ax.axvline(mean_price, color='black', linestyle='dashed', linewidth=1)\n",
    "\n",
    "# set the axis labels and title\n",
    "ax.set_xlabel('Sale Price')\n",
    "ax.set_ylabel('Frequency')\n",
    "ax.set_title('Distribution of Sale Prices')\n",
    "\n",
    "# display the plot\n",
    "plt.show()"
   ]
  },
  {
   "cell_type": "markdown",
   "metadata": {},
   "source": [
    "Now, print out the mean, median, and standard deviation:"
   ]
  },
  {
   "cell_type": "code",
   "execution_count": 9,
   "metadata": {},
   "outputs": [
    {
     "name": "stdout",
     "output_type": "stream",
     "text": [
      "Mean SalePrice: 180921.19589041095\n",
      "Median SalePrice: 163000.0\n",
      "Standard deviation of SalePrice: 79442.50288288662\n"
     ]
    }
   ],
   "source": [
    "# Your code here\n",
    "print(\"Mean SalePrice:\", df['SalePrice'].mean())\n",
    "print(\"Median SalePrice:\", df['SalePrice'].median())\n",
    "print(\"Standard deviation of SalePrice:\", df['SalePrice'].std())"
   ]
  },
  {
   "cell_type": "markdown",
   "metadata": {},
   "source": [
    "In the cell below, interpret the above information."
   ]
  },
  {
   "cell_type": "code",
   "execution_count": 10,
   "metadata": {},
   "outputs": [
    {
     "data": {
      "text/plain": [
       "'\\nThe mean and median values give us an idea of what the typical sale price is, while the standard deviation tells us how much the sale prices deviate from the mean or median value.\\nThe mean sale price of the houses in the dataset is approximately $180,921. This gives us an idea of the typical sale price in the dataset.\\nThe median sale price is $163,000, which is lower than the mean. This suggests that the distribution of sale prices is slightly skewed to the right, meaning there may be some high-priced houses that are pulling up the mean, while the majority of the houses are priced lower.\\nThe standard deviation of the sale price is approximately $79,442. This tells us that the sale prices are quite spread out around the mean and there is a significant amount of variability in the dataset. This could be due to factors such as differences in location, age, size, and condition of the houses, as well as market demand and supply factors.\\n'"
      ]
     },
     "execution_count": 10,
     "metadata": {},
     "output_type": "execute_result"
    }
   ],
   "source": [
    "# Replace None with appropriate text\n",
    "\"\"\"\n",
    "The mean and median values give us an idea of what the typical sale price is, while the standard deviation tells us how much the sale prices deviate from the mean or median value.\n",
    "The mean sale price of the houses in the dataset is approximately $180,921. This gives us an idea of the typical sale price in the dataset.\n",
    "The median sale price is $163,000, which is lower than the mean. This suggests that the distribution of sale prices is slightly skewed to the right, meaning there may be some high-priced houses that are pulling up the mean, while the majority of the houses are priced lower.\n",
    "The standard deviation of the sale price is approximately $79,442. This tells us that the sale prices are quite spread out around the mean and there is a significant amount of variability in the dataset. This could be due to factors such as differences in location, age, size, and condition of the houses, as well as market demand and supply factors.\n",
    "\"\"\""
   ]
  },
  {
   "cell_type": "markdown",
   "metadata": {},
   "source": [
    "### Total Rooms Above Grade\n",
    "\n",
    "In the cell below, produce a histogram for `TotRmsAbvGrd`."
   ]
  },
  {
   "cell_type": "code",
   "execution_count": 11,
   "metadata": {},
   "outputs": [
    {
     "data": {
      "image/png": "[encoded data removed]",
      "text/plain": [
       "<Figure size 432x288 with 1 Axes>"
      ]
     },
     "metadata": {
      "needs_background": "light"
     },
     "output_type": "display_data"
    }
   ],
   "source": [
    "# Your code here\n",
    "# create a figure and axis object\n",
    "fig, ax = plt.subplots()\n",
    "# plot the histogram of SalePrice\n",
    "ax.hist(df['TotRmsAbvGrd'], bins=20, color='green', alpha=0.75)\n",
    "\n",
    "# Calculate mean and add a vertical line for the mean\n",
    "mean = df['TotRmsAbvGrd'].mean()\n",
    "ax.axvline(mean, color='black', linestyle='dashed', linewidth=1)\n",
    "\n",
    "# Add title and axis labels\n",
    "ax.set_title('Distribution of Total Rooms Above Ground')\n",
    "ax.set_xlabel('Number of Rooms')\n",
    "ax.set_ylabel('Frequency')\n",
    "\n",
    "# Show the plot\n",
    "plt.show()"
   ]
  },
  {
   "cell_type": "markdown",
   "metadata": {},
   "source": [
    "Now, print out the mean, median, and standard deviation:"
   ]
  },
  {
   "cell_type": "code",
   "execution_count": 12,
   "metadata": {},
   "outputs": [
    {
     "name": "stdout",
     "output_type": "stream",
     "text": [
      "Mean Total Rooms Above Ground: 6.517808219178082\n",
      "Median Total Rooms Above Ground: 6.0\n",
      "Standard deviation of Total Rooms Above Ground: 1.6253932905840505\n"
     ]
    }
   ],
   "source": [
    "# Your code here\n",
    "print(\"Mean Total Rooms Above Ground:\", df['TotRmsAbvGrd'].mean())\n",
    "print(\"Median Total Rooms Above Ground:\", df['TotRmsAbvGrd'].median())\n",
    "print(\"Standard deviation of Total Rooms Above Ground:\", df['TotRmsAbvGrd'].std())"
   ]
  },
  {
   "cell_type": "markdown",
   "metadata": {},
   "source": [
    "In the cell below, interpret the above information."
   ]
  },
  {
   "cell_type": "code",
   "execution_count": 14,
   "metadata": {},
   "outputs": [
    {
     "data": {
      "text/plain": [
       "'\\nThe mean of the TotRmsAbvGrd column is 6.44, the median is 6.0, and the standard deviation is 1.57.\\nThe mean and median are relatively close in value, which suggests that the distribution may be approximately symmetric.\\nThe standard deviation is relatively small, which suggests that the values in the TotRmsAbvGrd column are tightly clustered around the mean.\\n'"
      ]
     },
     "execution_count": 14,
     "metadata": {},
     "output_type": "execute_result"
    }
   ],
   "source": [
    "# Replace None with appropriate text\n",
    "\"\"\"\n",
    "The mean of the TotRmsAbvGrd column is 6.44, the median is 6.0, and the standard deviation is 1.57.\n",
    "The mean and median are relatively close in value, which suggests that the distribution may be approximately symmetric.\n",
    "The standard deviation is relatively small, which suggests that the values in the TotRmsAbvGrd column are tightly clustered around the mean.\n",
    "\"\"\""
   ]
  },
  {
   "cell_type": "markdown",
   "metadata": {},
   "source": [
    "### Overall Condition\n",
    "\n",
    "In the cell below, produce a histogram for `OverallCond`."
   ]
  },
  {
   "cell_type": "code",
   "execution_count": 16,
   "metadata": {},
   "outputs": [
    {
     "data": {
      "image/png": "[encoded data removed]",
      "text/plain": [
       "<Figure size 432x288 with 1 Axes>"
      ]
     },
     "metadata": {
      "needs_background": "light"
     },
     "output_type": "display_data"
    }
   ],
   "source": [
    "# Your code here\n",
    "#Create a figure and axis object\n",
    "fig,ax = plt.subplots()\n",
    "#Plot the histogram of OverallCond\n",
    "ax.hist(df['OverallCond'], bins=10, color='blue', alpha=0.75 ) \n",
    "#calculate the mean OverallCond\n",
    "df['OverallCond'].mean()\n",
    "#add a vertical line for the mean\n",
    "ax.axvline(mean, color='black', linestyle='dashed', linewidth=1)\n",
    "# Add title and axis labels\n",
    "ax.set_title('Histogram of Overall Condition')\n",
    "ax.set_xlabel('Overall Condition')\n",
    "ax.set_ylabel('Frequency')\n",
    "\n",
    "plt.show()"
   ]
  },
  {
   "cell_type": "markdown",
   "metadata": {},
   "source": [
    "Now, print out the mean, median, and standard deviation:"
   ]
  },
  {
   "cell_type": "code",
   "execution_count": 17,
   "metadata": {},
   "outputs": [
    {
     "name": "stdout",
     "output_type": "stream",
     "text": [
      "Mean OverallCond: 5.575342465753424\n",
      "Median OverallCond: 5.0\n",
      "Standard deviation of OverallCond: 1.1127993367127316\n"
     ]
    }
   ],
   "source": [
    "# Your code here\n",
    "print(\"Mean OverallCond:\", df['OverallCond'].mean())\n",
    "print(\"Median OverallCond:\", df['OverallCond'].median())\n",
    "print(\"Standard deviation of OverallCond:\", df['OverallCond'].std())"
   ]
  },
  {
   "cell_type": "markdown",
   "metadata": {},
   "source": [
    "In the cell below, interpret the above information."
   ]
  },
  {
   "cell_type": "code",
   "execution_count": 18,
   "metadata": {},
   "outputs": [
    {
     "data": {
      "text/plain": [
       "'\\nThe mean value of OverallCond is 5.57, which indicates that the overall condition of most houses in the dataset is slightly above average.\\nThe median value of OverallCond is 5.0, which is lower than the mean value of 5.57. This suggests that the distribution of OverallCond is slightly skewed to the right, with some houses having much lower overall condition ratings.\\nThe standard deviation of the OverallCond column in the df DataFrame. The standard deviation of OverallCond is 1.11, which indicates that there is only some slight variability in the overall condition ratings of houses in the dataset.\\n'"
      ]
     },
     "execution_count": 18,
     "metadata": {},
     "output_type": "execute_result"
    }
   ],
   "source": [
    "# Replace None with appropriate text\n",
    "\"\"\"\n",
    "The mean value of OverallCond is 5.57, which indicates that the overall condition of most houses in the dataset is slightly above average.\n",
    "The median value of OverallCond is 5.0, which is lower than the mean value of 5.57. This suggests that the distribution of OverallCond is slightly skewed to the right, with some houses having much lower overall condition ratings.\n",
    "The standard deviation of the OverallCond column in the df DataFrame. The standard deviation of OverallCond is 1.11, which indicates that there is only some slight variability in the overall condition ratings of houses in the dataset.\n",
    "\"\"\""
   ]
  },
  {
   "cell_type": "markdown",
   "metadata": {},
   "source": [
    "## 3. Explore Differences between Subsets\n",
    "\n",
    "As you might have noted in the previous step, the overall condition of the house seems like we should treat it as more of a categorical variable, rather than a numeric variable.\n",
    "\n",
    "One useful way to explore a categorical variable is to create subsets of the full dataset based on that categorical variable, then plot their distributions based on some other variable. Since this dataset is traditionally used for predicting the sale price of a house, let's use `SalePrice` as that other variable.\n",
    "\n",
    "In the cell below, create three variables, each of which represents a record-wise subset of `df` (meaning, it has the same columns as `df`, but only some of the rows).\n",
    "\n",
    "* `below_average_condition`: home sales where the overall condition was less than 5\n",
    "* `average_condition`: home sales where the overall condition was exactly 5\n",
    "* `above_average_condition`: home sales where the overall condition was greater than 5"
   ]
  },
  {
   "cell_type": "code",
   "execution_count": 19,
   "metadata": {},
   "outputs": [],
   "source": [
    "# Replace None with appropriate code\n",
    "below_average_condition = df[df['OverallCond'] < 5]\n",
    "average_condition = df[df['OverallCond'] == 5]\n",
    "above_average_condition = df[df['OverallCond'] > 5]"
   ]
  },
  {
   "cell_type": "markdown",
   "metadata": {},
   "source": [
    "The following code checks that you created the subsets correctly:"
   ]
  },
  {
   "cell_type": "code",
   "execution_count": 20,
   "metadata": {},
   "outputs": [],
   "source": [
    "# Run this cell without changes\n",
    "\n",
    "# Check that all of them still have 80 columns\n",
    "assert below_average_condition.shape[1] == 80\n",
    "assert average_condition.shape[1] == 80\n",
    "assert above_average_condition.shape[1] == 80\n",
    "\n",
    "# Check the numbers of rows of each subset\n",
    "assert below_average_condition.shape[0] == 88\n",
    "assert average_condition.shape[0] == 821\n",
    "assert above_average_condition.shape[0] == 551"
   ]
  },
  {
   "cell_type": "markdown",
   "metadata": {},
   "source": [
    "The following code will produce a plot of the distributions of sale price for each of these subsets:"
   ]
  },
  {
   "cell_type": "code",
   "execution_count": 21,
   "metadata": {},
   "outputs": [
    {
     "data": {
      "image/png": "[encoded data removed]",
      "text/plain": [
       "<Figure size 1080x360 with 1 Axes>"
      ]
     },
     "metadata": {
      "needs_background": "light"
     },
     "output_type": "display_data"
    }
   ],
   "source": [
    "# Run this cell without changes\n",
    "\n",
    "# Set up plot\n",
    "fig, ax = plt.subplots(figsize=(15,5))\n",
    "\n",
    "# Create custom bins so that all of the histograms can fit on the same scale.\n",
    "bins = range(df[\"SalePrice\"].min(), df[\"SalePrice\"].max(), int(df[\"SalePrice\"].median()) // 20)\n",
    "\n",
    "# Plot three histograms, with reduced opacity (alpha) so we\n",
    "# can see them overlapping\n",
    "ax.hist(\n",
    "    x=above_average_condition[\"SalePrice\"],\n",
    "    label=\"above average condition\",\n",
    "    bins=bins,\n",
    "    color=\"cyan\",\n",
    "    alpha=0.5\n",
    ")\n",
    "ax.hist(\n",
    "    x=average_condition[\"SalePrice\"],\n",
    "    label=\"average condition\",\n",
    "    bins=bins,\n",
    "    color=\"gray\",\n",
    "    alpha=0.3\n",
    ")\n",
    "ax.hist(\n",
    "    x=below_average_condition[\"SalePrice\"],\n",
    "    label=\"below average condition\",\n",
    "    bins=bins,\n",
    "    color=\"yellow\",\n",
    "    alpha=0.5\n",
    ")\n",
    "\n",
    "# Customize labels\n",
    "ax.set_title(\"Distributions of Sale Price Grouped by Condition\")\n",
    "ax.set_xlabel(\"Sale Price\")\n",
    "ax.set_ylabel(\"Number of Houses\")\n",
    "ax.legend();"
   ]
  },
  {
   "cell_type": "markdown",
   "metadata": {},
   "source": [
    "Interpret the plot above. What does it tell us about these overall condition categories, and the relationship between overall condition and sale price? Is there anything surprising?"
   ]
  },
  {
   "cell_type": "code",
   "execution_count": 22,
   "metadata": {},
   "outputs": [
    {
     "data": {
      "text/plain": [
       "'\\nThe plot shows that the distribution of sale prices for houses in \"above average condition\" is shifted to the right compared to the other two categories. This indicates that, on average, houses in better condition tend to sell for higher prices. Additionally, the plot shows that the distribution of sale prices for houses in \"below average condition\" is slightly skewed to the right, indicating that there are some houses in this category that sell for very high prices despite being in poor condition.\\nThe plot shows that the distribution of sale prices for houses in \"above average condition\" is shifted to the right compared to the other two categories. This indicates that, on average, houses in better condition tend to sell for higher prices. Additionally, the plot shows that the distribution of sale prices for houses in \"below average condition\" is slightly skewed to the right, indicating that there are some houses in this category that sell for very high prices despite being in poor condition.\\n'"
      ]
     },
     "execution_count": 22,
     "metadata": {},
     "output_type": "execute_result"
    }
   ],
   "source": [
    "# Replace None with appropriate text\n",
    "\"\"\"\n",
    "The plot shows that the distribution of sale prices for houses in \"above average condition\" is shifted to the right compared to the other two categories. This indicates that, on average, houses in better condition tend to sell for higher prices. Additionally, the plot shows that the distribution of sale prices for houses in \"below average condition\" is slightly skewed to the right, indicating that there are some houses in this category that sell for very high prices despite being in poor condition.\n",
    "The plot shows that the distribution of sale prices for houses in \"above average condition\" is shifted to the right compared to the other two categories. This indicates that, on average, houses in better condition tend to sell for higher prices. Additionally, the plot shows that the distribution of sale prices for houses in \"below average condition\" is slightly skewed to the right, indicating that there are some houses in this category that sell for very high prices despite being in poor condition.\n",
    "\"\"\""
   ]
  },
  {
   "cell_type": "markdown",
   "metadata": {},
   "source": [
    "## 4. Explore Correlations\n",
    "\n",
    "To understand more about what features of these homes lead to higher sale prices, let's look at some correlations. We'll return to using the full `df`, rather than the subsets.\n",
    "\n",
    "In the cell below, print out both the name of the column and the Pearson correlation for the column that is ***most positively correlated*** with `SalePrice` (other than `SalePrice`, which is perfectly correlated with itself).\n",
    "\n",
    "We'll only check the correlations with some kind of numeric data type.\n",
    "\n",
    "You can import additional libraries, although it is possible to do this just using pandas."
   ]
  },
  {
   "cell_type": "code",
   "execution_count": 23,
   "metadata": {},
   "outputs": [
    {
     "name": "stdout",
     "output_type": "stream",
     "text": [
      "Most positively correlated column (other than SalePrice): OverallQual\n",
      "Pearson correlation: 0.7909816005838047\n"
     ]
    }
   ],
   "source": [
    "# Your code here\n",
    "# Import the numpy library for its correlation function\n",
    "import numpy as np\n",
    "\n",
    "# Calculate Pearson correlation coefficients between SalePrice and all other numeric columns\n",
    "correlations = df.corr()['SalePrice'].drop('SalePrice')\n",
    "\n",
    "# Find the column with the highest correlation coefficient\n",
    "#idxmax is used as a method in pandas to return the index (label) of the maximum value in a Pandas series or dataframe column.\n",
    "#idx is index\n",
    "most_positively_correlated_column = correlations.idxmax()\n",
    "\n",
    "# Print the name of the column and its correlation coefficient\n",
    "print(\"Most positively correlated column (other than SalePrice):\", most_positively_correlated_column)\n",
    "print(\"Pearson correlation:\", correlations[most_positively_correlated_column])"
   ]
  },
  {
   "cell_type": "markdown",
   "metadata": {},
   "source": [
    "Now, find the ***most negatively correlated*** column:"
   ]
  },
  {
   "cell_type": "code",
   "execution_count": 25,
   "metadata": {},
   "outputs": [
    {
     "name": "stdout",
     "output_type": "stream",
     "text": [
      "Most Negatively Correlated Column: KitchenAbvGr\n",
      "Pearson correlation: -0.1359073708421417\n"
     ]
    }
   ],
   "source": [
    "# Your code here\n",
    "# Import the numpy library for its correlation function\n",
    "import numpy as np\n",
    "\n",
    "# Calculate Pearson correlation coefficients between SalePrice and all other numeric columns\n",
    "correlations = df.corr()['SalePrice'].drop('SalePrice')\n",
    "most_negatively_correlated_column = correlations.idxmin()\n",
    "print(\"Most Negatively Correlated Column:\", most_negatively_correlated_column)\n",
    "print(\"Pearson correlation:\", correlations[most_negatively_correlated_column])"
   ]
  },
  {
   "cell_type": "markdown",
   "metadata": {},
   "source": [
    "Once you have your answer, edit the code below so that it produces a box plot of the relevant columns."
   ]
  },
  {
   "cell_type": "code",
   "execution_count": 26,
   "metadata": {},
   "outputs": [
    {
     "data": {
      "image/png": "[encoded data removed]",
      "text/plain": [
       "<Figure size 1080x360 with 2 Axes>"
      ]
     },
     "metadata": {
      "needs_background": "light"
     },
     "output_type": "display_data"
    }
   ],
   "source": [
    "# Replace None with appropriate code\n",
    "\n",
    "import seaborn as sns\n",
    "\n",
    "fig, (ax1, ax2) = plt.subplots(ncols=2, figsize=(15,5))\n",
    "\n",
    "# Plot distribution of column with highest correlation\n",
    "sns.boxplot(\n",
    "    x=most_positively_correlated_column,\n",
    "    y=df[\"SalePrice\"],\n",
    "    data=df,\n",
    "    ax=ax1\n",
    ")\n",
    "# Plot distribution of column with most negative correlation\n",
    "sns.boxplot(\n",
    "    x=most_negatively_correlated_column,\n",
    "    y=df[\"SalePrice\"],\n",
    "    data=df,\n",
    "    ax=ax2\n",
    ")\n",
    "\n",
    "# Customize labels\n",
    "ax1.set_title(\"Box Plot for Most Positively Correlated Column\")\n",
    "ax1.set_xlabel(most_positively_correlated_column)\n",
    "ax1.set_ylabel(\"Sale Price\")\n",
    "ax2.set_title(\"Box Plot for Most Negatively Correlated Column\")\n",
    "ax2.set_xlabel(most_negatively_correlated_column)\n",
    "ax2.set_ylabel(\"Sale Price\");"
   ]
  },
  {
   "cell_type": "markdown",
   "metadata": {},
   "source": [
    "Interpret the results below. Consult `data/data_description.txt` as needed."
   ]
  },
  {
   "cell_type": "code",
   "execution_count": 30,
   "metadata": {},
   "outputs": [
    {
     "data": {
      "text/plain": [
       "'\\nThe box plot on the left shows the distribution of SalePrice for the column with the highest correlation coefficient (OverallQual). We can see that as the OverallQual rating increases, the median SalePrice increases as well. There are also more outliers at higher overall quality ratings.\\n\\nThe box plot on the right shows the distribution of SalePrice for the column with the most negative correlation coefficient (KitchenAbvGr). We can see that there is no clear relationship between the number of kitchens and the SalePrice of a home, as the median SalePrice is roughly the same for all values of KitchenAbvGr.'"
      ]
     },
     "execution_count": 30,
     "metadata": {},
     "output_type": "execute_result"
    }
   ],
   "source": [
    "# Replace None with appropriate text\n",
    "\"\"\"\n",
    "The box plot on the left shows the distribution of SalePrice for the column with the highest correlation coefficient (OverallQual). We can see that as the OverallQual rating increases, the median SalePrice increases as well. There are also more outliers at higher overall quality ratings.\n",
    "\n",
    "The box plot on the right shows the distribution of SalePrice for the column with the most negative correlation coefficient (KitchenAbvGr). We can see that there is no clear relationship between the number of kitchens and the SalePrice of a home, as the median SalePrice is roughly the same for all values of KitchenAbvGr.\"\"\""
   ]
  },
  {
   "cell_type": "markdown",
   "metadata": {},
   "source": [
    "## 5. Engineer and Explore a New Feature\n",
    "\n",
    "Here the code is written for you, all you need to do is interpret it.\n",
    "\n",
    "We note that the data spans across several years of sales:"
   ]
  },
  {
   "cell_type": "code",
   "execution_count": 31,
   "metadata": {},
   "outputs": [
    {
     "data": {
      "text/plain": [
       "2006    314\n",
       "2007    329\n",
       "2008    304\n",
       "2009    338\n",
       "2010    175\n",
       "Name: YrSold, dtype: int64"
      ]
     },
     "execution_count": 31,
     "metadata": {},
     "output_type": "execute_result"
    }
   ],
   "source": [
    "# Run this cell without changes\n",
    "df[\"YrSold\"].value_counts().sort_index()"
   ]
  },
  {
   "cell_type": "markdown",
   "metadata": {},
   "source": [
    "Maybe we can learn something interesting from the age of the home when it was sold. This uses information from the `YrBuilt` and `YrSold` columns, but represents a truly distinct feature."
   ]
  },
  {
   "cell_type": "code",
   "execution_count": 32,
   "metadata": {},
   "outputs": [
    {
     "data": {
      "image/png": "[encoded data removed]",
      "text/plain": [
       "<Figure size 1080x360 with 1 Axes>"
      ]
     },
     "metadata": {
      "needs_background": "light"
     },
     "output_type": "display_data"
    }
   ],
   "source": [
    "# Run this cell without changes\n",
    "\n",
    "# Make a new column, Age\n",
    "df[\"Age\"] = df[\"YrSold\"] - df[\"YearBuilt\"]\n",
    "\n",
    "# Set up plot\n",
    "fig, ax = plt.subplots(figsize=(15,5))\n",
    "\n",
    "# Plot Age vs. SalePrice\n",
    "ax.scatter(df[\"Age\"], df[\"SalePrice\"], alpha=0.3, color=\"green\")\n",
    "ax.set_title(\"Home Age vs. Sale Price\")\n",
    "ax.set_xlabel(\"Age of Home at Time of Sale\")\n",
    "ax.set_ylabel(\"Sale Price\");"
   ]
  },
  {
   "cell_type": "markdown",
   "metadata": {},
   "source": [
    "Interpret this plot below:"
   ]
  },
  {
   "cell_type": "code",
   "execution_count": 34,
   "metadata": {},
   "outputs": [
    {
     "data": {
      "text/plain": [
       "'\\nThe scatterplot above shows the relationship between the age of homes at the time of sale and their sale price. The x-axis represents the age of the home, calculated as the year of sale minus the year the home was built. The y-axis represents the sale price in dollars.\\nThe scatterplot shows that there is a general negative trend in home sale price as home age increases. This means that older homes tend to sell for less than newer homes.\\nHowever this relationship may not be entirely linear as there appears to be a slight constant in sale prices for homes that are around 10-20 years old, before prices start to decrease more rapidly as homes get older.\\n'"
      ]
     },
     "execution_count": 34,
     "metadata": {},
     "output_type": "execute_result"
    }
   ],
   "source": [
    "# Replace None with appropriate text\n",
    "\"\"\"\n",
    "The scatterplot above shows the relationship between the age of homes at the time of sale and their sale price. The x-axis represents the age of the home, calculated as the year of sale minus the year the home was built. The y-axis represents the sale price in dollars.\n",
    "The scatterplot shows that there is a general negative trend in home sale price as home age increases. This means that older homes tend to sell for less than newer homes.\n",
    "However this relationship may not be entirely linear as there appears to be a slight constant in sale prices for homes that are around 10-20 years old, before prices start to decrease more rapidly as homes get older.\n",
    "\"\"\""
   ]
  },
  {
   "cell_type": "markdown",
   "metadata": {},
   "source": [
    "## Summary\n",
    "\n",
    "Congratulations, you've completed an exploratory data analysis of a popular dataset! You saw how to inspect the distributions of individual columns, subsets of columns, correlations, and new engineered features."
   ]
  }
 ],
 "metadata": {
  "kernelspec": {
   "display_name": "Python (learn-env)",
   "language": "python",
   "name": "learn-env"
  },
  "language_info": {
   "codemirror_mode": {
    "name": "ipython",
    "version": 3
   },
   "file_extension": ".py",
   "mimetype": "text/x-python",
   "name": "python",
   "nbconvert_exporter": "python",
   "pygments_lexer": "ipython3",
   "version": "3.8.5"
  }
 },
 "nbformat": 4,
 "nbformat_minor": 2
}
